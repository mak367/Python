{
 "cells": [
  {
   "cell_type": "code",
   "execution_count": null,
   "id": "d5ce5dc1",
   "metadata": {},
   "outputs": [],
   "source": [
    "import random\n",
    "user1=input(\"Enter a choice (rock, paper, scissors): \")\n",
    "user2= input(\"Enter a choice (rock, paper, scissors): \")\n",
    "\n",
    "if(user1== \"rock\") and (user2== \"scissors\"):\n",
    "    print(\"user 2 lost\")\n",
    "if(user1 == \"rock\") and (user2== \"paper\"):\n",
    "    print(\"user 2 won\")\n",
    "if(user1 == \"scissors\") and (user2 ==\"rock\"):\n",
    "    print(\"user 2 won\")\n",
    "if(user1==\"scissors\") and (user2 == \"paper\"):\n",
    "    print(\"user 1 won\")\n",
    "if(user1 == \"paper\") and (user2 ==\"rock\"):\n",
    "    print(\"user 1 won\")\n",
    "if(user1==\"paper\") and (user2 == \"scissors\"):\n",
    "    print(\"user 2 won\")\n",
    "elif(user1==user2):\n",
    "    print(\"draw\")"
   ]
  }
 ],
 "metadata": {
  "kernelspec": {
   "display_name": "Python 3",
   "language": "python",
   "name": "python3"
  },
  "language_info": {
   "codemirror_mode": {
    "name": "ipython",
    "version": 3
   },
   "file_extension": ".py",
   "mimetype": "text/x-python",
   "name": "python",
   "nbconvert_exporter": "python",
   "pygments_lexer": "ipython3",
   "version": "3.8.8"
  }
 },
 "nbformat": 4,
 "nbformat_minor": 5
}
